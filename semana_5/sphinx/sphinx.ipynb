{
 "cells": [
  {
   "cell_type": "markdown",
   "id": "7f3a145c-11a6-4018-9019-34fc70e9ab1e",
   "metadata": {},
   "source": [
    "# Sphinx"
   ]
  },
  {
   "cell_type": "code",
   "execution_count": null,
   "id": "b0916410-440f-4417-9631-e59bd7d2fb45",
   "metadata": {},
   "outputs": [],
   "source": []
  }
 ],
 "metadata": {
  "kernelspec": {
   "display_name": "Python 3 (ipykernel)",
   "language": "python",
   "name": "python3"
  },
  "language_info": {
   "codemirror_mode": {
    "name": "ipython",
    "version": 3
   },
   "file_extension": ".py",
   "mimetype": "text/x-python",
   "name": "python",
   "nbconvert_exporter": "python",
   "pygments_lexer": "ipython3",
   "version": "3.10.11"
  }
 },
 "nbformat": 4,
 "nbformat_minor": 5
}
