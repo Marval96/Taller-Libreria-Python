{
 "cells": [
  {
   "cell_type": "markdown",
   "id": "ef855116-210d-45d9-b5be-c5e9305461a2",
   "metadata": {},
   "source": [
    "```{image} https://imgs.xkcd.com/comics/efficiency.png\n",
    ":width: 40%\n",
    ":align: center\n",
    "```\n",
    "\n",
    "<br>\n",
    "\n",
    "\n",
    "# Python bindings\n",
    "\n",
    "## Qué son\n",
    "\n",
    "Python es un lenguaje con muchas virtudes. Por ejemplo, es fácil comenzar a ser productivo con unas mínimas nociones y resulta muy adecuado para el desarrollo de proyectos en colaboración. Además con Python cualquier usuario tiene acceso a una enorme cantidad de herramientas, librerías, que facilitarán su trabajo casi en cualquier ámbito. Pero si algo no es Python -al menos hasta la versión 3.10- es rápido. Python es un interpretador de código que prescinde del paso de traducir el código a código máquina para su ejecución. Esto, que puede resultar ventajoso en muchas circunstancias, es una desventaja cuando se trata de realizar trabajo computacional pesado. Es por eso que resulta muy habitual implementar las partes del código más demandantes en un segundo lenguaje, como C o Fortran, para compilar esas funciones para ser invocadas desde el código Python. A las herramientas que hacen de puente entre Python y un lenguaje compilado se les llama \"enlaces a Python\" o Python \"bindings\".\n",
    "\n",
    "Existen varios \"enlaces a Python\" y siguen implementándose nuevos mecanísmos y librerías para este propósito. Aquí repasaremos brevemente tres opciones para que quien se acerca por primera vez a ellos disponga un poquito de información para entender qué ventajas le pueden aportar.\n",
    "\n",
    "### ¿Necesito entonces aprender otro lenguaje de programación?\n",
    "\n",
    "Aprender otros lenguajes de programación puede ser muy buena idea si tienes el tiempo para hacerlo. Según tus necesidades e intereses, si ya conoces Python, vas a jugar con ciertas ventajas si además conoces otros lenguajes de programación interpretado como R, Ruby, JavaScript o Ruby. Pero sin duda, te complementará mucho conocer un lenguaje compilado como Rust, C, C++ o Fortran. ¿Es estricamente necesario para poder producir herramientas computacionales que puedan ser ejecutadas en tiempos mucho más cortos que con Python? No, puedes conocer únicamente Python y disponer de funciones compiladas sin necesidad de cambiar de lenguaje de programación. Si este es tu caso, existen herramientas como Cython o Numba que te resultarán extremádamente útiles -échale un ojo a la unidad de esta sesión dedicada a Numba-.\n"
   ]
  },
  {
   "cell_type": "markdown",
   "id": "6eae4388-7544-4fc5-b826-98ff1e4d3623",
   "metadata": {},
   "source": [
    "## ctypes\n",
    "\n",
    "El primer mecanismo para enlazar código escrito y compilado en C desde Python que debe ser mencionado en esta unidad es sin duda \"ctypes\". Puede que no lo supieras pero Python está programado completamente en C. Por este motivo C es el lenguaje compilado natural al que cualquiera recurriría en primer lugar para hacer su código más rápido. \"ctypes\" es la herramienta nativa incluida en Python para comunicarse con módulos compilados en C.\n",
    "\n",
    "### Cómo se instala\n",
    "\n",
    "Para hacer uso de \"ctypes\" no debes instalar nada más que Python. \"ctypes\" forma parte de las librerías esenciales de Python.\n",
    "\n",
    "### Un ejemplo\n",
    "\n",
    "Para tener un punto de referencia en el caso del uso de \"ctypes\" y los posteriores mecanismos de Python Binding, hagamos en primer lugar un algoritmo sencillo en Python con el que poder comparar.\n",
    "\n",
    "Veamos un algoritmo para ordenar números enteros (conocido con el nombre \"Bubble Sort\") y observemos cuanto tiempo tarda en ejecutarse cuando la cantidad de números es $10^5$:"
   ]
  },
  {
   "cell_type": "code",
   "execution_count": 1,
   "id": "1317bf9a-418e-46fe-b4f6-680d22c6d73f",
   "metadata": {},
   "outputs": [],
   "source": [
    "import numpy as np\n",
    "\n",
    "def sort(serie):\n",
    "    \n",
    "    n_numbers = serie.shape[0]\n",
    "    \n",
    "    done = False\n",
    "    \n",
    "    while not done:\n",
    "        done = True\n",
    "        for ii in range(n_numbers-1):\n",
    "            if serie[ii]>serie[ii+1]:\n",
    "                serie[ii], serie[ii+1] = serie[ii+1], serie[ii]\n",
    "                done = False\n",
    "    \n",
    "    pass"
   ]
  },
  {
   "cell_type": "markdown",
   "id": "f23f1fc0-00a0-4f32-8865-54b4bbff83b1",
   "metadata": {},
   "source": [
    "Vamos a generar aleatoriamente $10^{5}$ números enteros comprendidos en el rango $[0,10^6)$ y tomemos el tiempo de ejecución para futuras referencias:"
   ]
  },
  {
   "cell_type": "code",
   "execution_count": 2,
   "id": "49a892cf-e9d3-4510-bc46-2308f2228488",
   "metadata": {},
   "outputs": [],
   "source": [
    "rng = np.random.default_rng()\n",
    "serie = rng.integers(0, 10**5, 10**4)"
   ]
  },
  {
   "cell_type": "code",
   "execution_count": 3,
   "id": "afeefbc1-1bb1-4f21-b3d0-71341071438b",
   "metadata": {},
   "outputs": [],
   "source": [
    "backup_serie = serie.copy()"
   ]
  },
  {
   "cell_type": "code",
   "execution_count": 4,
   "id": "3392f40b-981d-4169-b71d-c12030ea58ec",
   "metadata": {},
   "outputs": [
    {
     "name": "stdout",
     "output_type": "stream",
     "text": [
      "CPU times: user 44.1 s, sys: 45.9 ms, total: 44.2 s\n",
      "Wall time: 44.3 s\n"
     ]
    }
   ],
   "source": [
    "%%time\n",
    "sort(serie)"
   ]
  },
  {
   "cell_type": "code",
   "execution_count": 5,
   "id": "c64b7ef8-85ad-4e09-939f-a5effe8c2078",
   "metadata": {},
   "outputs": [
    {
     "data": {
      "text/plain": [
       "array([    3,     3,    24, ..., 99947, 99962, 99971])"
      ]
     },
     "execution_count": 5,
     "metadata": {},
     "output_type": "execute_result"
    }
   ],
   "source": [
    "serie"
   ]
  },
  {
   "cell_type": "markdown",
   "id": "84628220-a026-46cf-9905-af36710f8282",
   "metadata": {},
   "source": [
    "Ya tenemos un punto de referencia. Vamos a ver cómo podemos hacer uso del mismo algoritmo escrito y compilado en C desde Python con \"ctypes\".\n",
    "\n",
    "Supongamos que tenemos el siguiente código en C que hace esencialmente lo mismo que nuestra rutina anterior:\n",
    "\n",
    "```C\n",
    "#include  <stdio.h>\n",
    "\n",
    "void sort(int serie[], int size) {\n",
    "\n",
    "  int done = 0;\n",
    "    \n",
    "  while (done==0) {\n",
    "      \n",
    "    int done = 1;\n",
    "\n",
    "    for (int ii = 0; ii < size - 1; ++ii) {\n",
    "      if (serie[ii] > serie[ii + 1]) {\n",
    "        int temp = serie[ii];\n",
    "        serie[ii] = serie[ii + 1];\n",
    "        serie[ii + 1] = temp;\n",
    "        \n",
    "        done = 0;\n",
    "      }\n",
    "    }\n",
    "    \n",
    "  }\n",
    "}\n",
    "```\n",
    "\n",
    "El fichero lo puedes encontrar en el mismo directorio de esta unidad en su repositorio."
   ]
  },
  {
   "cell_type": "markdown",
   "id": "b156873d-c371-4b55-9029-ccd437653d0b",
   "metadata": {},
   "source": [
    "En primer lugar necesitamos compilar el código para generar una librería estática que llamaremos `sort.so`. Usaremos el compilador libre `gcc`:"
   ]
  },
  {
   "cell_type": "code",
   "execution_count": 35,
   "id": "4dbc0df0-0d8d-444b-a502-35edebcb8fde",
   "metadata": {},
   "outputs": [],
   "source": [
    "!gcc -fPIC -Wall -shared -o sort.so sort.c"
   ]
  },
  {
   "cell_type": "markdown",
   "id": "e696bb56-9884-4074-8ac8-30edb1ee4629",
   "metadata": {},
   "source": [
    "El símbolo exclamación nos permite ejecutar en el sistema operativo que aloja ejecuta este Jupyter Notebook órdenes cómo si estuvieramos haciendo uso de una terminal.\n",
    "\n",
    "Como puedes comprobar, la librería estática ya se encuentra en este directorio:"
   ]
  },
  {
   "cell_type": "code",
   "execution_count": 7,
   "id": "44ca2772-8f16-418e-9136-8a6612b71bb5",
   "metadata": {},
   "outputs": [
    {
     "name": "stdout",
     "output_type": "stream",
     "text": [
      "python_bindings.ipynb  sort.c  sort.so\n"
     ]
    }
   ],
   "source": [
    "!ls"
   ]
  },
  {
   "cell_type": "markdown",
   "id": "b669594b-e6c0-4bb9-9ff7-3e5abda46f46",
   "metadata": {},
   "source": [
    "Para poder invocar desde Python la función compilada en C únicamente tenemos que importar la librería nativa \"ctypes\" para hacer los siguiente:"
   ]
  },
  {
   "cell_type": "code",
   "execution_count": 77,
   "id": "78469ad2-172a-45d3-ac9e-0c341b782cd0",
   "metadata": {},
   "outputs": [],
   "source": [
    "from numpy.ctypeslib import ndpointer\n",
    "import ctypes\n",
    "\n",
    "clib = ctypes.cdll.LoadLibrary(\"./sort.so\")"
   ]
  },
  {
   "cell_type": "code",
   "execution_count": 78,
   "id": "5464414b-4ff8-4bf1-9b75-a146d5a38177",
   "metadata": {},
   "outputs": [],
   "source": [
    "serie = backup_serie.copy()"
   ]
  },
  {
   "cell_type": "code",
   "execution_count": 79,
   "id": "e379d66a-a9e1-42a9-948c-9768966d69d9",
   "metadata": {},
   "outputs": [],
   "source": [
    "output = np.zeros((serie.shape[0]), dtype=serie.dtype)"
   ]
  },
  {
   "cell_type": "code",
   "execution_count": 82,
   "id": "2d2f78d3-f2f7-46e4-a49d-d4930d517918",
   "metadata": {},
   "outputs": [],
   "source": [
    "clib.sort.restype = None"
   ]
  },
  {
   "cell_type": "code",
   "execution_count": 87,
   "id": "a8e5f0a8-bf3c-4841-b157-f3e6ddf4afb3",
   "metadata": {},
   "outputs": [
    {
     "name": "stdout",
     "output_type": "stream",
     "text": [
      "CPU times: user 256 ms, sys: 112 µs, total: 256 ms\n",
      "Wall time: 254 ms\n"
     ]
    }
   ],
   "source": [
    "%%time\n",
    "clib.sort(ctypes.c_void_p(serie.ctypes.data), ctypes.c_int(serie.shape[0]), ctypes.c_void_p(output.ctypes.data))"
   ]
  },
  {
   "cell_type": "markdown",
   "id": "fcc2a80d-976f-49ef-b339-76471f57267c",
   "metadata": {},
   "source": [
    "El algoritmo ha sido ejecutado con un tiempo varios órdenes de magnitud más bajos que con Python."
   ]
  },
  {
   "cell_type": "markdown",
   "id": "5f103384-89c8-41f6-b882-96abe5f3445e",
   "metadata": {},
   "source": [
    "### Ventajas e inconvenientes\n",
    "\n",
    "La ventaja más obvia es que el tiempo de ejecución ha sido sensiblemente más breve. El inconveniente principal es que hemos tenido que aprender a comunicarnos con la librería \"ctypes\" y su uso no resulta del todo obvio e intuitivo."
   ]
  },
  {
   "cell_type": "markdown",
   "id": "797c8a81-1440-4539-b09c-3de8413edc13",
   "metadata": {},
   "source": [
    "## CFFI\n",
    "\n",
    "CFFI (C Foreign Function Interface) es una librería que nos permite también invocar y ejecutar código compilado en C desde Python. Los tiempos de ejecuación serán similares a los alcanzados con \"ctypes\". Para hacer uso de CFFI también tenemos que aprender sus mecanismos, en ese sentido no resulta más amable que \"ctypes\". Quizá la ventaja que podemos encontrar es que la manera en la que comunicamos el tipado de los objetos permite que nuestro código en Python sea más claro. De esta manera será más facil escalar y modular nuestras librerías en C."
   ]
  },
  {
   "cell_type": "markdown",
   "id": "33fd3db2-d68b-40aa-9307-5e604a2efaf5",
   "metadata": {},
   "source": [
    "## PyBind11\n",
    "\n",
    "Si lo que queremos es programar nuestras rutinas externas en C++, PyBind11 puede ser la herramienta adecuada como liga entre tu código en C++ y en Python.\n",
    "\n",
    "PyBind11 toma un abordaje diferente a los anteriores. Sus funciones pueden ser invocadas directamente. Puede resultar más cómodo."
   ]
  }
 ],
 "metadata": {
  "kernelspec": {
   "display_name": "Python 3 (ipykernel)",
   "language": "python",
   "name": "python3"
  },
  "language_info": {
   "codemirror_mode": {
    "name": "ipython",
    "version": 3
   },
   "file_extension": ".py",
   "mimetype": "text/x-python",
   "name": "python",
   "nbconvert_exporter": "python",
   "pygments_lexer": "ipython3",
   "version": "3.10.11"
  }
 },
 "nbformat": 4,
 "nbformat_minor": 5
}
