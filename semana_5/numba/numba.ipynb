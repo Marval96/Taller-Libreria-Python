{
 "cells": [
  {
   "cell_type": "markdown",
   "id": "ef855116-210d-45d9-b5be-c5e9305461a2",
   "metadata": {},
   "source": [
    "```{image} numba-blue-horizontal-rgb.svg\n",
    ":width: 40%\n",
    ":align: center\n",
    "```\n",
    "\n",
    "<br>\n",
    "\n",
    "\n",
    "# Numba\n",
    "\n",
    "## Qué es Numba\n",
    "\n",
    "Numba, al igual que Cython, es una herramienta para acelerar la ejecución de código escrito en lenguaje Python. Numba puede ser una muy buena alternativa al uso de \"Python bindings\" con C como ctypes (mecanismo nativo de Python), CFFI o PyBind11; o con Fortran con F2Py (NumPy). No hace falta que aprendas a programar en C o Fortran, con tus rutinas en Python puedes acercarte a tiempos de ejecución con Numba similares a la obtenida con lenguajes compilados.\n",
    "\n",
    "Numba es una iniciativa muy bien soportada y con estabilidad asegurada a largo plazo. El proyecto lo comenzó en 2012 Travis Oliphant, fundador de Anaconda y creador de Numpy (2005). Actualmente, y desde 2018, Numba está desarrollado por Anaconda y cuenta con el soporte de agencias gubernamentales estado unidenses y empresas tan relevantes como DARPA, Nvidia, Intel o AMD.\n",
    "\n",
    "Técnicamente, podemos describir a Numba como un compilador *Just in time* -JIT- de código abierto que traduce código Python y Numpy a código máquina. Esto se lleva a cabo usando LLVM gracias a la librería de Python llvmlite. "
   ]
  },
  {
   "cell_type": "markdown",
   "id": "f95783e3-4137-4928-8e24-535a8923228b",
   "metadata": {},
   "source": [
    "## Cómo se instala\n",
    "\n",
    "Numba puede ser instalado mediante el gestor de paquetes y entornos Conda. Con el entorno en el que se quiere instalar la librería activado, basta con ejecutar:\n",
    "\n",
    "```bash\n",
    "conda install -c conda-forge numba\n",
    "```\n",
    "\n",
    "O si estás haciendo uso de mamba para poder realizar instalaciones y actualizaciones de tus librerías de manera más rápida:\n",
    "\n",
    "```bash\n",
    "mamba install -c conda-forge numba\n",
    "```"
   ]
  },
  {
   "cell_type": "markdown",
   "id": "9ad89d8e-af9e-431e-9205-df431e2655e8",
   "metadata": {},
   "source": [
    "## Cómo se usa\n",
    "\n",
    "Para usar conda no hace falta que reescribamos ni alteremos sustancialmente nuestro código en Python. Basta con importar la librería y usar adecuadamente el decorador que indicará la compilación de una función, por ejemplo.\n",
    "\n",
    "Tomemos como ejemplo la siguiente función:"
   ]
  },
  {
   "cell_type": "code",
   "execution_count": 1,
   "id": "a45de90e-da55-4700-82fa-24d3c2f9b316",
   "metadata": {
    "tags": []
   },
   "outputs": [],
   "source": [
    "import numpy as np\n",
    "\n",
    "def sort(serie):\n",
    "    \n",
    "    n_numbers = serie.shape[0]\n",
    "    output = serie.copy()\n",
    "    \n",
    "    done = False\n",
    "    \n",
    "    while not done:\n",
    "        done = True\n",
    "        for ii in range(n_numbers-1):\n",
    "            if output[ii]>output[ii+1]:\n",
    "                output[ii], output[ii+1] = output[ii+1], output[ii]\n",
    "                done = False\n",
    "    \n",
    "    return output"
   ]
  },
  {
   "cell_type": "markdown",
   "id": "61495e27-349d-4312-a27c-9f21175945f9",
   "metadata": {},
   "source": [
    "Probemos a ordenar una serie de por ejemplo $10^5$ números enteros positivos aleatoriamente generados en el rango $[0,10^6)$:"
   ]
  },
  {
   "cell_type": "code",
   "execution_count": 2,
   "id": "b03d468c-2059-4f5c-b0a1-a1c62cfd77f0",
   "metadata": {
    "tags": []
   },
   "outputs": [],
   "source": [
    "rng = np.random.default_rng()"
   ]
  },
  {
   "cell_type": "code",
   "execution_count": 3,
   "id": "81eab4e7-0fe5-445f-8b69-ea46edfa9294",
   "metadata": {
    "tags": []
   },
   "outputs": [],
   "source": [
    "serie = rng.integers(0, 10**5, 10**4)"
   ]
  },
  {
   "cell_type": "code",
   "execution_count": 4,
   "id": "dd380b88-b086-4c24-a6c5-fba31ad73370",
   "metadata": {
    "tags": []
   },
   "outputs": [
    {
     "name": "stdout",
     "output_type": "stream",
     "text": [
      "CPU times: user 29.2 s, sys: 36.4 ms, total: 29.2 s\n",
      "Wall time: 29.2 s\n"
     ]
    }
   ],
   "source": [
    "%%time\n",
    "sorted_serie = sort(serie)"
   ]
  },
  {
   "cell_type": "code",
   "execution_count": 5,
   "id": "a846534c-6e22-46a3-b8ba-e62f73cadbb0",
   "metadata": {
    "tags": []
   },
   "outputs": [
    {
     "name": "stdout",
     "output_type": "stream",
     "text": [
      "[   45    54    64 ... 99967 99978 99978]\n"
     ]
    }
   ],
   "source": [
    "print(sorted_serie)"
   ]
  },
  {
   "cell_type": "markdown",
   "id": "fbfddaa9-0faa-4619-9b2b-6e2ea406f559",
   "metadata": {},
   "source": [
    "Python no es un interpretador muy rápido y cuando se trata de cómputo pesado, Python puede ser una muy mala opción. Veamos qué pasa cuando le pedimos a Numba que compile la función:"
   ]
  },
  {
   "cell_type": "code",
   "execution_count": 6,
   "id": "4bb5e9d3-34d6-4fcf-8189-57cfd449492c",
   "metadata": {
    "tags": []
   },
   "outputs": [],
   "source": [
    "import numba as nb\n",
    "\n",
    "@nb.jit(nopython=True)\n",
    "def sort(serie):\n",
    "    \n",
    "    n_numbers = serie.shape[0]\n",
    "    output = serie.copy()\n",
    "    \n",
    "    done = False\n",
    "    \n",
    "    while not done:\n",
    "        done = True\n",
    "        for ii in range(n_numbers-1):\n",
    "            if output[ii]>output[ii+1]:\n",
    "                output[ii], output[ii+1] = output[ii+1], output[ii]\n",
    "                done = False\n",
    "    \n",
    "    return output"
   ]
  },
  {
   "cell_type": "markdown",
   "id": "ceec12d8-ce07-407c-81e8-6ceaafb96449",
   "metadata": {},
   "source": [
    "El decorador `jit` con la opción `nopython=True` es invocado para compilar completamente la función sin dejar ninguna linea o fragmento para ser ejecutada en puro Python. Nótese que `@nb.jit(nopython=True)` es equivalente a `@nb.njit()` y por lo tanto cualquiera de las dos fórmulas pudo haber sido usada con el mismo fin.\n",
    "\n",
    "Vamos ahora en cuanto tiempo ordena nuestra función compilada la misma serie de números enteros empleada anteriormente:"
   ]
  },
  {
   "cell_type": "code",
   "execution_count": 7,
   "id": "ec7444b2-841c-47f0-87d8-f7f799a35d37",
   "metadata": {
    "tags": []
   },
   "outputs": [
    {
     "name": "stdout",
     "output_type": "stream",
     "text": [
      "CPU times: user 612 ms, sys: 16 ms, total: 628 ms\n",
      "Wall time: 634 ms\n"
     ]
    }
   ],
   "source": [
    "%%time\n",
    "sorted_serie = sort(serie)"
   ]
  },
  {
   "cell_type": "markdown",
   "id": "6d695c10-cce3-4c70-8c14-e9fc2a5414d1",
   "metadata": {},
   "source": [
    "La primera vez que la función se ejecuta, Numba compila de acuerdo al tipo de variables de entrada y salida el código. Esto se puede evitar como veremos más adelante. Comparemos el tiempo tardado con el tiempo necesario en una segunda o tercera vez:"
   ]
  },
  {
   "cell_type": "code",
   "execution_count": 8,
   "id": "1369a798-4277-478b-89fd-19f1b44fea1a",
   "metadata": {
    "tags": []
   },
   "outputs": [
    {
     "name": "stdout",
     "output_type": "stream",
     "text": [
      "CPU times: user 172 ms, sys: 0 ns, total: 172 ms\n",
      "Wall time: 170 ms\n"
     ]
    }
   ],
   "source": [
    "%%time\n",
    "sorted_serie = sort(serie)"
   ]
  },
  {
   "cell_type": "code",
   "execution_count": 9,
   "id": "3fe9faa1-30e1-4355-94c5-0a1196e6eab2",
   "metadata": {
    "tags": []
   },
   "outputs": [
    {
     "name": "stdout",
     "output_type": "stream",
     "text": [
      "CPU times: user 232 ms, sys: 0 ns, total: 232 ms\n",
      "Wall time: 234 ms\n"
     ]
    }
   ],
   "source": [
    "%%time\n",
    "sorted_serie = sort(serie)"
   ]
  },
  {
   "cell_type": "markdown",
   "id": "9923302f-29d0-4533-aa34-ec81eb54661b",
   "metadata": {
    "tags": []
   },
   "source": [
    "Numba ha acelerado la ejecución de nuestra función en un factor mayor a $150$ veces. Veamos ahora un par de consejos que harán que comiences a usar Numba en tu librería de una manera más eficiente antes de que inviertas un poco de tiempo revisando su documentación."
   ]
  },
  {
   "cell_type": "markdown",
   "id": "ef3c89b8-48fa-45e8-b13d-0bf7696b4d41",
   "metadata": {},
   "source": [
    "### Es conveniente aportar el tipado de los argumentos de entrada y de los objetos de salida\n",
    "\n",
    "En lenguaje de Numba, la firma (*signature*) es la lista de tipos de de los argumentos de argumentos de entrada junto con la lista de tipos de los argumentos de salida de una función. Aportar explícitamente la firma le va a ayudar a Numba a ser más eficiente compilando el código. Probemos a hacerlo: "
   ]
  },
  {
   "cell_type": "code",
   "execution_count": 10,
   "id": "f29a9c41-98e3-4c26-927a-233b726e26a0",
   "metadata": {
    "tags": []
   },
   "outputs": [],
   "source": [
    "import numba as nb\n",
    "\n",
    "@nb.jit(nb.int64[:](nb.int64[:]), nopython=True)\n",
    "def sort(serie):\n",
    "    \n",
    "    n_numbers = serie.shape[0]\n",
    "    output = serie.copy()\n",
    "    \n",
    "    done = False\n",
    "    \n",
    "    while not done:\n",
    "        done = True\n",
    "        for ii in range(n_numbers-1):\n",
    "            if output[ii]>output[ii+1]:\n",
    "                output[ii], output[ii+1] = output[ii+1], output[ii]\n",
    "                done = False\n",
    "    \n",
    "    return output"
   ]
  },
  {
   "cell_type": "code",
   "execution_count": 11,
   "id": "904f2f51-a416-495c-925d-bd32bceff7d0",
   "metadata": {
    "tags": []
   },
   "outputs": [
    {
     "name": "stdout",
     "output_type": "stream",
     "text": [
      "CPU times: user 192 ms, sys: 0 ns, total: 192 ms\n",
      "Wall time: 192 ms\n"
     ]
    }
   ],
   "source": [
    "%%time\n",
    "sorted_serie = sort(serie)"
   ]
  },
  {
   "cell_type": "markdown",
   "id": "f9e51c5b-ef92-446f-9f0b-fc35e93f163a",
   "metadata": {},
   "source": [
    "Como verás, los tiempos obtenidos la primera vez tras la compilación de la función son similares a la segunda o tercera vez cuando la firma no es proporcionada."
   ]
  },
  {
   "cell_type": "markdown",
   "id": "5c4a7a76-5349-4b14-a48f-9fd4226fe11d",
   "metadata": {},
   "source": [
    "### Evita el compilado del código cada vez que tu librería es importada\n",
    "\n",
    "Si vas a definir funciones en tu librería que van a ser compiladas con Numba, siguiendo las indicaciones anteriores Numba va a compilar el código cada vez que la librería es importada. Y esto va a suceder incluso si el código de la librería no ha cambiado en nada. Para evitar esta situación puedes hacer uso de la opción del decorador `cache=True`."
   ]
  },
  {
   "cell_type": "code",
   "execution_count": 12,
   "id": "49bdeae7-9400-41f1-90c3-5e4f7d171700",
   "metadata": {
    "tags": []
   },
   "outputs": [],
   "source": [
    "import numba as nb\n",
    "\n",
    "@nb.jit(nb.int64[:](nb.int64[:]), nopython=True, cache=True)\n",
    "def sort(serie):\n",
    "    \n",
    "    n_numbers = serie.shape[0]\n",
    "    output = serie.copy()\n",
    "    \n",
    "    done = False\n",
    "    \n",
    "    while not done:\n",
    "        done = True\n",
    "        for ii in range(n_numbers-1):\n",
    "            if output[ii]>output[ii+1]:\n",
    "                output[ii], output[ii+1] = output[ii+1], output[ii]\n",
    "                done = False\n",
    "    \n",
    "    return output"
   ]
  },
  {
   "cell_type": "markdown",
   "id": "b4d12736-24e7-4d38-ae65-11d104e37842",
   "metadata": {},
   "source": [
    "De esta manera Numba sólo compilará la función de tu librería la primera vez que ésta es importada. Y mientras el código fuente de la función no sea modificado, no volverá a compilar la función. Verás entonces que el tiempo que cuesta importar tu librería la primera vez es mayor que las veces siguientes. Un precio que se paga gustósamente para poder alcanzar tiempos de ejecución varios órdenes de magnitud más pequeños que si estuvieramos interpretando puro Python."
   ]
  },
  {
   "cell_type": "markdown",
   "id": "d5a7bf87-e6b3-41d0-ae49-20e8cc1df292",
   "metadata": {},
   "source": [
    "https://nyu-cds.github.io/python-numba/"
   ]
  },
  {
   "cell_type": "code",
   "execution_count": null,
   "id": "6474aeff-05a8-43c2-8bb3-8408900bf43e",
   "metadata": {},
   "outputs": [],
   "source": []
  }
 ],
 "metadata": {
  "kernelspec": {
   "display_name": "Python 3 (ipykernel)",
   "language": "python",
   "name": "python3"
  },
  "language_info": {
   "codemirror_mode": {
    "name": "ipython",
    "version": 3
   },
   "file_extension": ".py",
   "mimetype": "text/x-python",
   "name": "python",
   "nbconvert_exporter": "python",
   "pygments_lexer": "ipython3",
   "version": "3.10.11"
  }
 },
 "nbformat": 4,
 "nbformat_minor": 5
}
